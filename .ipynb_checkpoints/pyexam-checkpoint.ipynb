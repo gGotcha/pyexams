{
 "metadata": {
  "name": "",
  "signature": "sha256:45f5ee83afe1fecf0ca0c9ea8f9e660c9d6fd03712f3d53699f9787b3e60032e"
 },
 "nbformat": 3,
 "nbformat_minor": 0,
 "worksheets": [
  {
   "cells": [
    {
     "cell_type": "code",
     "collapsed": false,
     "input": [
      "db.remove(eids=[6,7])"
     ],
     "language": "python",
     "metadata": {},
     "outputs": [
      {
       "metadata": {},
       "output_type": "pyout",
       "prompt_number": 52,
       "text": [
        "[6, 7]"
       ]
      }
     ],
     "prompt_number": 52
    },
    {
     "cell_type": "code",
     "collapsed": false,
     "input": [
      "db.purge()"
     ],
     "language": "python",
     "metadata": {},
     "outputs": [],
     "prompt_number": 19
    },
    {
     "cell_type": "code",
     "collapsed": false,
     "input": [
      "db.insert_multiple([{'name': 'John', 'age': 22}, {'name': 'John', 'age': 37}])"
     ],
     "language": "python",
     "metadata": {},
     "outputs": [
      {
       "metadata": {},
       "output_type": "pyout",
       "prompt_number": 50,
       "text": [
        "[6, 7]"
       ]
      }
     ],
     "prompt_number": 50
    },
    {
     "cell_type": "code",
     "collapsed": false,
     "input": [
      "l = db.all()\n",
      "print(l)"
     ],
     "language": "python",
     "metadata": {},
     "outputs": [
      {
       "output_type": "stream",
       "stream": "stdout",
       "text": [
        "[{u'name': u'order0'}, {u'a': u'', u'name': u'order1'}, {u'a': u'', u'b': u'', u'name': u'order2'}, {u'a': u'', u'c': u'', u'b': u'', u'name': u'order3'}, {u'a': u'', u'c': u'', u'b': u'', u'name': u'order4', u'd': u''}]\n"
       ]
      }
     ],
     "prompt_number": 43
    },
    {
     "cell_type": "code",
     "collapsed": false,
     "input": [
      "for item in db:\n",
      "    print(item['name'])"
     ],
     "language": "python",
     "metadata": {},
     "outputs": [
      {
       "output_type": "stream",
       "stream": "stdout",
       "text": [
        "order0\n",
        "order1\n",
        "order2\n",
        "order3\n",
        "order4\n"
       ]
      }
     ],
     "prompt_number": 22
    },
    {
     "cell_type": "code",
     "collapsed": false,
     "input": [
      "from tinydb import TinyDB, Query\n",
      "db = TinyDB('db.json')\n",
      "db.insert({'name':'order0'})\n",
      "db.insert({'name':'order1','a':''})\n",
      "db.insert({'name':'order2','a':'','b':''})\n",
      "db.insert({'name':'order3','a':'','b':'','c':''})\n",
      "db.insert({'name':'order4','a':'','b':'','c':'','d':''})"
     ],
     "language": "python",
     "metadata": {},
     "outputs": [
      {
       "metadata": {},
       "output_type": "pyout",
       "prompt_number": 20,
       "text": [
        "5"
       ]
      }
     ],
     "prompt_number": 20
    },
    {
     "cell_type": "code",
     "collapsed": false,
     "input": [
      "b = 'a=@@ & b=+++'\n",
      "b = b.split('&')\n",
      "dd = {k:v for k,v in (x.split('=') for x in b) }\n",
      "print (dict)"
     ],
     "language": "python",
     "metadata": {},
     "outputs": [
      {
       "output_type": "stream",
       "stream": "stdout",
       "text": [
        "{'a': '\"\"', 'b': '\"\"'}\n"
       ]
      }
     ],
     "prompt_number": 22
    },
    {
     "cell_type": "code",
     "collapsed": true,
     "input": [
      "#b = 'b=\"\"&q=\"\"'\n",
      "b = 'a=@@ & b=+++'\n",
      "b = b.split('&')\n",
      "dd = {k:v for k,v in (x.split('=') for x in b) }\n",
      "print (dd)\n",
      "# The input to search over\n",
      "#l = [{'':''},{'a':''}, {'a':'', 'b':''}, {'a':'','b':'','c':''},{'a':'','b':'','c':'','d':''}]\n",
      "# Extract the keys we'd like to search for\n",
      "#t = set({'a': '','c':''}.keys())\n",
      "t = set(dd.keys())\n",
      "\n",
      "# Find the item in l that shares max number of keys with the requested item\n",
      "match = max(l, key=lambda item: len(t & set(item.keys())))\n",
      "max_index = l.index(match)\n",
      "print(max_index)\n",
      "#print(l[3]['name'])"
     ],
     "language": "python",
     "metadata": {},
     "outputs": [
      {
       "output_type": "stream",
       "stream": "stdout",
       "text": [
        "{'a': '@@ ', ' b': '+++'}\n",
        "1\n"
       ]
      }
     ],
     "prompt_number": 41
    },
    {
     "cell_type": "code",
     "collapsed": false,
     "input": [
      "import datetime\n",
      "\n",
      "def valiDate(v):\n",
      "    formats = ['%d.%m.%Y', '%Y-%m-%d'] \n",
      "    for frmat in formats:\n",
      "        try:\n",
      "            datetime.datetime.strptime(v, frmat) \n",
      "            return True\n",
      "        except:\n",
      "            pass\n",
      "\n",
      "\n",
      "\n",
      "\n",
      "def validate(val):\n",
      "    answer = {}\n",
      "    if valid(v):\n",
      "    #if  re.match(r\"(\\d{2}|\\d{4})[/.-](\\d{2})[/.-](\\d{2}|\\d{4})$\", val):\n",
      "        print k + 'date'\n",
      "    #    answer [k]=v     \n",
      "    \n",
      "    elif  re.match(r\"[+][7][' ']\\d{3}[' ']\\d{3}[' ']\\d{2}[' ']\\d{2}$\", val):\n",
      "    #elif  re.match(r\"[+]\\d{11}$\", val):    \n",
      "        print k + 'tel'\n",
      "        answer [k]=v\n",
      "    elif re.match(r\"[^@]+@[^@]+\\.[^@]+\", val):\n",
      "        print k + 'mail'\n",
      "        answer [k]=v\n",
      "    else:\n",
      "        print k + 'text'\n",
      "        #answer [k]=val\n",
      "        \n",
      "    #print answer"
     ],
     "language": "python",
     "metadata": {},
     "outputs": [],
     "prompt_number": 278
    },
    {
     "cell_type": "code",
     "collapsed": false,
     "input": [
      "tt = {'a': '+7 123 123 45 7','c':'ewwe@sff.ru', 'b': 'tttttt', 'd':'15.12.2012'}\n",
      "for k,v in tt.items():\n",
      "    validate(v)"
     ],
     "language": "python",
     "metadata": {},
     "outputs": [
      {
       "output_type": "stream",
       "stream": "stdout",
       "text": [
        "atext\n",
        "cmail\n",
        "btext\n",
        "15.12.2012\n",
        "ddate\n"
       ]
      }
     ],
     "prompt_number": 281
    },
    {
     "cell_type": "code",
     "collapsed": false,
     "input": [
      "import re\n",
      "\n",
      "if re.match(r\"[^@]+@[^@]+\\.[^@]+\", 'refds@sffd.rt'):\n",
      "    print 're'"
     ],
     "language": "python",
     "metadata": {},
     "outputs": [
      {
       "output_type": "stream",
       "stream": "stdout",
       "text": [
        "re\n"
       ]
      }
     ],
     "prompt_number": 152
    },
    {
     "cell_type": "code",
     "collapsed": false,
     "input": [],
     "language": "python",
     "metadata": {},
     "outputs": []
    }
   ],
   "metadata": {}
  }
 ]
}